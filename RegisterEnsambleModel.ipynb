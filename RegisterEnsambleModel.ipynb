{
 "cells": [
  {
   "cell_type": "markdown",
   "id": "7ed241f7",
   "metadata": {},
   "source": [
    "# Ensemble model registration"
   ]
  },
  {
   "cell_type": "code",
   "execution_count": 1,
   "id": "8184e308",
   "metadata": {},
   "outputs": [
    {
     "name": "stderr",
     "output_type": "stream",
     "text": [
      "/opt/conda/lib/python3.7/site-packages/requests/__init__.py:91: RequestsDependencyWarning: urllib3 (1.26.11) or chardet (3.0.4) doesn't match a supported version!\n",
      "  RequestsDependencyWarning)\n"
     ]
    }
   ],
   "source": [
    "from mosaicml import *\n",
    "from mosaicml.constants import MLModelFlavours"
   ]
  },
  {
   "cell_type": "code",
   "execution_count": 2,
   "id": "e2e2337c",
   "metadata": {},
   "outputs": [
    {
     "name": "stdout",
     "output_type": "stream",
     "text": [
      "{'model1': {'payload': [[5.8, 2.8, 5.1, 2.4], [6.0, 2.2, 4.0, 1.0]]}, 'model2': {'payload': [[5.8, 2.8, 5.1, 2.4], [6.0, 2.2, 4.0, 1.0]]}}\n"
     ]
    }
   ],
   "source": [
    "import requests\n",
    "req_ensemble = requests.Request()\n",
    "req_ensemble1 = requests.Request()\n",
    "req_ensemble2 = requests.Request()\n",
    "req_ensemble1.json = {\"payload\":[[5.8, 2.8, 5.1, 2.4]]}\n",
    "req_ensemble2.json = {\"payload\":[[5.8, 2.8, 5.1, 2.4]]}\n",
    "req_ensemble.json = {\"model1\":{\"payload\":[[5.8, 2.8, 5.1, 2.4],\n",
    "       [6.0 , 2.2, 4.0 , 1.0 ]]},\"model2\":{\"payload\":[[5.8, 2.8, 5.1, 2.4],\n",
    "       [6.0 , 2.2, 4.0 , 1.0 ]]}}\n",
    "print(req_ensemble.json)"
   ]
  },
  {
   "cell_type": "markdown",
   "id": "ad6915df",
   "metadata": {},
   "source": [
    "# Ensemble model Score function"
   ]
  },
  {
   "cell_type": "code",
   "execution_count": 3,
   "id": "506fb60c",
   "metadata": {},
   "outputs": [],
   "source": [
    "import json\n",
    "import os\n",
    "@scoring_func\n",
    "def score_ensemble(model_dict, request):\n",
    "    model1Id = os.environ.get(\"model1\")\n",
    "    model2Id = os.environ.get(\"model2\")\n",
    "    #Replace with Model 1 ID\n",
    "    model1=model_dict[model1Id][\"model_object\"]\n",
    "    score1=model_dict[model1Id][\"score_object\"]\n",
    "    #Replace with Model 2 ID\n",
    "    model2=model_dict[model2Id][\"model_object\"]\n",
    "    score2=model_dict[model2Id][\"score_object\"]\n",
    "    request1=request.json[\"model1\"]\n",
    "    request2=request.json[\"model2\"]\n",
    "    import numpy as np\n",
    "    import requests\n",
    "    req_ensemble1 = requests.Request()\n",
    "    req_ensemble2 = requests.Request()\n",
    "    req_ensemble1.json=request1\n",
    "    req_ensemble2.json=request2\n",
    "    a=score1(model1,req_ensemble1)\n",
    "    b=score2(model2,req_ensemble2)\n",
    "    model1_prob = np.array(a)\n",
    "    model2_prob = np.array(b)\n",
    "    final_prob = model1_prob*0.5 + model2_prob*0.5\n",
    "    return final_prob.tolist()"
   ]
  },
  {
   "cell_type": "markdown",
   "id": "85505f65",
   "metadata": {},
   "source": [
    "# Registering Ensemble Model"
   ]
  },
  {
   "cell_type": "code",
   "execution_count": 4,
   "id": "a7fb108a",
   "metadata": {},
   "outputs": [
    {
     "name": "stdout",
     "output_type": "stream",
     "text": [
      "Help on function register_ensemble_model in module mosaicml.api:\n",
      "\n",
      "register_ensemble_model(name, description, version_list, scoring_func, init_script=None)\n",
      "    Register ensemble model to the mosaic ai server\n",
      "    \n",
      "    Args:\n",
      "        name (string): name of the model\n",
      "        description (string): description of the model\n",
      "        version_list (list): list of versions of dependent models required for final prediction\n",
      "        E.g [ \"v1\", \"v2\"]\n",
      "        scoring_func (function): function to be used for scoring\n",
      "        init_script(string):script provided by user\n",
      "    Returns:\n",
      "        dict\n",
      "\n"
     ]
    }
   ],
   "source": [
    "help(register_ensemble_model)"
   ]
  },
  {
   "cell_type": "code",
   "execution_count": null,
   "id": "b78b558f",
   "metadata": {},
   "outputs": [],
   "source": [
    "#Replace version IDs of individual models\n",
    "import os\n",
    "version1Id = os.environ.get(\"version1\")\n",
    "version2Id = os.environ.get(\"version2\")\n",
    "version_list = [version1Id,version2Id]"
   ]
  },
  {
   "cell_type": "code",
   "execution_count": null,
   "id": "aceae2bd",
   "metadata": {},
   "outputs": [],
   "source": [
    "register_ensemble_model(name=\"first_ensemble_model_iris_33\",description=\"testing\",version_list=version_list,scoring_func=score_ensemble)"
   ]
  }
 ],
 "metadata": {
  "kernelspec": {
   "display_name": "Python 3",
   "language": "python",
   "name": "python3"
  },
  "language_info": {
   "codemirror_mode": {
    "name": "ipython",
    "version": 3
   },
   "file_extension": ".py",
   "mimetype": "text/x-python",
   "name": "python",
   "nbconvert_exporter": "python",
   "pygments_lexer": "ipython3",
   "version": "3.7.12"
  }
 },
 "nbformat": 4,
 "nbformat_minor": 5
}
