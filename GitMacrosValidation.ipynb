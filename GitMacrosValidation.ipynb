{
 "cells": [
  {
   "cell_type": "code",
   "execution_count": 23,
   "id": "d4eb9b6f",
   "metadata": {},
   "outputs": [
    {
     "ename": "SyntaxError",
     "evalue": "invalid syntax (<ipython-input-23-ce484be38d9f>, line 3)",
     "output_type": "error",
     "traceback": [
      "\u001b[0;36m  File \u001b[0;32m\"<ipython-input-23-ce484be38d9f>\"\u001b[0;36m, line \u001b[0;32m3\u001b[0m\n\u001b[0;31m    cd AutomationTestFolder\u001b[0m\n\u001b[0m                          ^\u001b[0m\n\u001b[0;31mSyntaxError\u001b[0m\u001b[0;31m:\u001b[0m invalid syntax\n"
     ]
    }
   ],
   "source": [
    "cd /gitlab/TestProject2"
   ]
  },
  {
   "cell_type": "code",
   "execution_count": 24,
   "id": "6b9366b6",
   "metadata": {},
   "outputs": [],
   "source": [
    "mkdir AutomationTestFolder"
   ]
  },
  {
   "cell_type": "code",
   "execution_count": 26,
   "id": "c79d8f91",
   "metadata": {},
   "outputs": [
    {
     "name": "stdout",
     "output_type": "stream",
     "text": [
      "total 516M\r\n",
      "-rw-r--r-- 1 mosaic-ai mosaic-ai 7.9K Aug 17 05:14 '10 AI Client E2E Demo without scoring1.ipynb'\r\n",
      "-rw-r--r-- 1 mosaic-ai mosaic-ai 252M Aug 17 05:14  BVT.zip\r\n",
      "-rw-r--r-- 1 mosaic-ai mosaic-ai   53 Aug 17 05:14  NewProgram.sas\r\n",
      "-rw-r--r-- 1 mosaic-ai mosaic-ai  75K Aug 17 05:14  Iris_Classification_Pytorch1.ipynb\r\n",
      "-rw-r--r-- 1 mosaic-ai mosaic-ai 2.8K Aug 17 05:14  Iris1.csv\r\n",
      "-rw-r--r-- 1 mosaic-ai mosaic-ai 261M Aug 17 05:14  PH.zip\r\n",
      "-rw-r--r-- 1 mosaic-ai mosaic-ai  330 Aug 17 05:14  R_Factorial_Code_For_Schedule.R\r\n",
      "-rw-r--r-- 1 mosaic-ai mosaic-ai 2.5K Aug 17 05:14  Read_Write_file.ipynb\r\n",
      "-rw-r--r-- 1 mosaic-ai mosaic-ai   28 Aug 17 05:14  README.md\r\n",
      "-rw-r--r-- 1 mosaic-ai mosaic-ai 2.6K Aug 17 05:14  PythonFactorial.ipynb\r\n",
      "-rw-r--r-- 1 mosaic-ai mosaic-ai  41K Aug 17 05:14  PetrolConsumption_Regression_tensorflow1.ipynb\r\n",
      "-rw-r--r-- 1 mosaic-ai mosaic-ai 1.9K Aug 17 05:14  SCBSand1.ipynb\r\n",
      "-rw-r--r-- 1 mosaic-ai mosaic-ai 2.1K Aug 17 05:14  SASsampleModel1.sas\r\n",
      "-rw-r--r-- 1 mosaic-ai mosaic-ai 1.6K Aug 17 05:14  Rsamplemode_ModelRegister.R\r\n",
      "-rw-r--r-- 1 mosaic-ai mosaic-ai 1.6K Aug 17 05:14  Rsamplemodel1.R\r\n",
      "-rw-r--r-- 1 mosaic-ai mosaic-ai 1.8K Aug 17 05:14  Rsamplemodebtm.R\r\n",
      "drwxr-xr-x 8 mosaic-ai mosaic-ai 4.0K Aug 17 05:14  \u001b[0m\u001b[01;34mSCB_R8_Testing_Files\u001b[0m/\r\n",
      "-rw-r--r-- 1 mosaic-ai mosaic-ai   72 Aug 17 05:14  TestSave.ipynb\r\n",
      "drwxr-xr-x 3 mosaic-ai mosaic-ai 4.0K Aug 17 05:14  \u001b[01;34mTestingFilesForObjectIDWithLongName\u001b[0m/\r\n",
      "drwxr-xr-x 5 mosaic-ai mosaic-ai 4.0K Aug 17 05:14 \u001b[01;34m'Testing Files'\u001b[0m/\r\n",
      "-rw-r--r-- 1 mosaic-ai mosaic-ai 1.9K Aug 17 05:14  Untitled.ipynb\r\n",
      "-rw-r--r-- 1 mosaic-ai mosaic-ai  877 Aug 17 05:14  Untitled2.ipynb\r\n",
      "-rw-r--r-- 1 mosaic-ai mosaic-ai 1.9K Aug 17 05:14  Untitled1.ipynb\r\n",
      "-rw-r--r-- 1 mosaic-ai mosaic-ai 1.7K Aug 17 05:14  Titanic_Classification_SAS_Model.sas\r\n",
      "-rw-r--r-- 1 mosaic-ai mosaic-ai  23K Aug 17 05:14  WineQualityNotebook.ipynb\r\n",
      "-rw-r--r-- 1 mosaic-ai mosaic-ai 4.2K Aug 17 05:14  Untitled6.ipynb\r\n",
      "-rw-r--r-- 1 mosaic-ai mosaic-ai 1.3K Aug 17 05:14  Untitled5.ipynb\r\n",
      "-rw-r--r-- 1 mosaic-ai mosaic-ai  739 Aug 17 05:14  Untitled4.ipynb\r\n",
      "-rw-r--r-- 1 mosaic-ai mosaic-ai  931 Aug 17 05:14  Untitled3.ipynb\r\n",
      "-rw-r--r-- 1 mosaic-ai mosaic-ai 2.1K Aug 17 05:14  auto_SASsampleModel1.sas\r\n",
      "-rw-r--r-- 1 mosaic-ai mosaic-ai 1.6K Aug 17 05:14  auto_Rsamplemodel1.R\r\n",
      "-rw-r--r-- 1 mosaic-ai mosaic-ai  41K Aug 17 05:14  auto_PetrolConsumption_Regression_tensorflow1.ipynb\r\n",
      "-rw-r--r-- 1 mosaic-ai mosaic-ai  75K Aug 17 05:14  auto_Iris_Classification_Pytorch1.ipynb\r\n",
      "-rw-r--r-- 1 mosaic-ai mosaic-ai 2.8K Aug 17 05:14  auto_Iris1.csv\r\n",
      "-rw-r--r-- 1 mosaic-ai mosaic-ai  33K Aug 17 05:14  auto_Admission_Regression_keras1.ipynb\r\n",
      "-rw-r--r-- 1 mosaic-ai mosaic-ai  16K Aug 17 05:14  auto_Admission_data1.csv\r\n",
      "drwxr-xr-x 2 mosaic-ai mosaic-ai 4.0K Aug 17 05:14  \u001b[01;34mbarchart-demo\u001b[0m/\r\n",
      "-rw-r--r-- 1 mosaic-ai mosaic-ai  60K Aug 17 05:14  auto_train1.csv\r\n",
      "-rw-r--r-- 1 mosaic-ai mosaic-ai  60K Aug 17 05:14  auto_titanic_train1.csv\r\n",
      "-rw-r--r-- 1 mosaic-ai mosaic-ai  28K Aug 17 05:14  auto_titanic_test1.csv\r\n",
      "-rw-r--r-- 1 mosaic-ai mosaic-ai  231 Aug 17 05:14  auto_sample_request1.sas\r\n",
      "-rw-r--r-- 1 mosaic-ai mosaic-ai 1.4K Aug 17 05:14  auto_petrol_consumption1.csv\r\n",
      "-rw-r--r-- 1 mosaic-ai mosaic-ai  276 Aug 17 05:14  auto_mosaic_score1.sas\r\n",
      "-rw-r--r-- 1 mosaic-ai mosaic-ai 149K Aug 17 05:14  auto_diamonds_regression_sklearn1.ipynb\r\n",
      "-rw-r--r-- 1 mosaic-ai mosaic-ai 3.1M Aug 17 05:14  auto_diamonds1.csv\r\n",
      "drwxr-xr-x 5 mosaic-ai mosaic-ai 4.0K Aug 17 05:14  \u001b[01;34mdash-clinical-analytics\u001b[0m/\r\n",
      "drwxr-xr-x 4 mosaic-ai mosaic-ai 4.0K Aug 17 05:14  \u001b[01;34mdash\u001b[0m/\r\n",
      "-rw-r--r-- 1 mosaic-ai mosaic-ai  231 Aug 17 05:14  sample_request1.sas\r\n",
      "drwxr-xr-x 2 mosaic-ai mosaic-ai 4.0K Aug 17 05:14  \u001b[01;34mrstudio-new\u001b[0m/\r\n",
      "-rw-r--r-- 1 mosaic-ai mosaic-ai  30K Aug 17 05:14  rplot_8502a08e-210b-442a-b6de-f3f27eaf98df.png\r\n",
      "-rw-r--r-- 1 mosaic-ai mosaic-ai 1.4K Aug 17 05:14  petrol_consumption1.csv\r\n",
      "-rw-r--r-- 1 mosaic-ai mosaic-ai   12 Aug 17 05:14  file.txt\r\n",
      "-rw-r--r-- 1 mosaic-ai mosaic-ai 2.7K Aug 17 05:14  file_two.ipynb\r\n",
      "-rw-r--r-- 1 mosaic-ai mosaic-ai 1.3K Aug 17 05:14  file_one.ipynb\r\n",
      "-rw-r--r-- 1 mosaic-ai mosaic-ai 2.6K Aug 17 05:14  feature_imp_8502a08e-210b-442a-b6de-f3f27eaf98df.png\r\n",
      "drwxr-xr-x 2 mosaic-ai mosaic-ai 4.0K Aug 17 05:14  \u001b[01;34mdash_gunicorn\u001b[0m/\r\n",
      "-rw-r--r-- 1 mosaic-ai mosaic-ai  60K Aug 17 05:14  train1.csv\r\n",
      "-rw-r--r-- 1 mosaic-ai mosaic-ai  60K Aug 17 05:14  titanic_train1.csv\r\n",
      "-rw-r--r-- 1 mosaic-ai mosaic-ai  28K Aug 17 05:14  titanic_test1.csv\r\n",
      "drwxr-xr-x 2 mosaic-ai mosaic-ai 4.0K Aug 17 05:27  \u001b[01;34mAutomationTestFolder\u001b[0m/\r\n"
     ]
    }
   ],
   "source": [
    "ls -lrth"
   ]
  },
  {
   "cell_type": "code",
   "execution_count": 27,
   "id": "e427bec9",
   "metadata": {},
   "outputs": [
    {
     "name": "stdout",
     "output_type": "stream",
     "text": [
      "/gitlab/TestProject2/AutomationTestFolder\n"
     ]
    }
   ],
   "source": [
    "cd AutomationTestFolder"
   ]
  },
  {
   "cell_type": "code",
   "execution_count": 29,
   "id": "7b3bf276",
   "metadata": {},
   "outputs": [],
   "source": [
    "lines = ['Readme', 'How to write text files in Python']\n",
    "with open('/gitlab/TestProject2/AutomationTestFolder/readme.txt', 'w') as f:\n",
    "    for line in lines:\n",
    "        f.write(line)\n",
    "        f.write('\\n')"
   ]
  },
  {
   "cell_type": "code",
   "execution_count": 30,
   "id": "cc2b1076",
   "metadata": {},
   "outputs": [
    {
     "name": "stdout",
     "output_type": "stream",
     "text": [
      "Readme\n",
      "How to write text files in Python\n",
      "\n"
     ]
    }
   ],
   "source": [
    "with open('/gitlab/TestProject2/AutomationTestFolder/readme.txt') as f:\n",
    "    contents = f.read()\n",
    "    print(contents)"
   ]
  },
  {
   "cell_type": "code",
   "execution_count": 32,
   "id": "fe7d81c8",
   "metadata": {},
   "outputs": [
    {
     "name": "stdout",
     "output_type": "stream",
     "text": [
      "/gitlab/TestProject2\n"
     ]
    }
   ],
   "source": [
    "cd /gitlab/TestProject2/"
   ]
  },
  {
   "cell_type": "code",
   "execution_count": 33,
   "id": "5d806ae9",
   "metadata": {},
   "outputs": [],
   "source": [
    "rm -rf AutomationTestFolder"
   ]
  },
  {
   "cell_type": "code",
   "execution_count": null,
   "id": "2987d2e1",
   "metadata": {},
   "outputs": [],
   "source": [
    "ls -lrth"
   ]
  },
  {
   "cell_type": "code",
   "execution_count": 34,
   "id": "70589065",
   "metadata": {},
   "outputs": [
    {
     "name": "stdout",
     "output_type": "stream",
     "text": [
      "/github/TestProject3\n"
     ]
    }
   ],
   "source": [
    "cd /github/TestProject3"
   ]
  },
  {
   "cell_type": "code",
   "execution_count": 35,
   "id": "2f517ba6",
   "metadata": {},
   "outputs": [],
   "source": [
    "mkdir AutomationTestFolder"
   ]
  },
  {
   "cell_type": "code",
   "execution_count": 36,
   "id": "c2168d93",
   "metadata": {},
   "outputs": [
    {
     "name": "stdout",
     "output_type": "stream",
     "text": [
      "total 27M\r\n",
      "-rw-r--r-- 1 mosaic-ai mosaic-ai  61K Aug 17 05:13 'E2E Demo (1).ipynb'\r\n",
      "-rw-r--r-- 1 mosaic-ai mosaic-ai  46K Aug 17 05:13  CarEvaluation_classification_tensorflow.ipynb\r\n",
      "-rw-r--r-- 1 mosaic-ai mosaic-ai  33K Aug 17 05:13  Admission_Regression_keras.ipynb\r\n",
      "-rw-r--r-- 1 mosaic-ai mosaic-ai  16K Aug 17 05:13  Admission_data.csv\r\n",
      "-rw-r--r-- 1 mosaic-ai mosaic-ai  19K Aug 17 05:13 '11 data_drift_orchestrated.ipynb'\r\n",
      "-rw-r--r-- 1 mosaic-ai mosaic-ai 7.9K Aug 17 05:13 '10 AI Client E2E Demo without scoring1.ipynb'\r\n",
      "-rw-r--r-- 1 mosaic-ai mosaic-ai  62K Aug 17 05:13  FIFA_Model_Test_Schedule.ipynb\r\n",
      "drwxr-xr-x 2 mosaic-ai mosaic-ai 4.0K Aug 17 05:13  \u001b[0m\u001b[01;34mFifaModel\u001b[0m/\r\n",
      "-rw-r--r-- 1 mosaic-ai mosaic-ai  13K Aug 17 05:13 'Encoded Example - AI Client.ipynb'\r\n",
      "-rw-r--r-- 1 mosaic-ai mosaic-ai  34K Aug 17 05:13  PetrolConsumption_Regression_tensorflow.ipynb\r\n",
      "-rw-r--r-- 1 mosaic-ai mosaic-ai  29K Aug 17 05:13  NotebookUpload.zip\r\n",
      "-rw-r--r-- 1 mosaic-ai mosaic-ai  95K Aug 17 05:13 'IrisDataset (1).ipynb'\r\n",
      "-rw-r--r-- 1 mosaic-ai mosaic-ai 2.8K Aug 17 05:13  Iris.csv\r\n",
      "-rw-r--r-- 1 mosaic-ai mosaic-ai  75K Aug 17 05:13  Iris_Classification_Pytorch.ipynb\r\n",
      "drwxr-xr-x 8 mosaic-ai mosaic-ai 4.0K Aug 17 05:13  \u001b[01;34mFiles_With_Hash_In_Name\u001b[0m/\r\n",
      "-rw-r--r-- 1 mosaic-ai mosaic-ai 2.1K Aug 17 05:13  SASsampleModel.sas\r\n",
      "-rw-r--r-- 1 mosaic-ai mosaic-ai 1.6K Aug 17 05:13  Rsamplemodel.R\r\n",
      "-rw-r--r-- 1 mosaic-ai mosaic-ai  330 Aug 17 05:13  R_Factorial_Code.R\r\n",
      "-rw-r--r-- 1 mosaic-ai mosaic-ai 2.5K Aug 17 05:13  Read_Write_file.ipynb\r\n",
      "-rw-r--r-- 1 mosaic-ai mosaic-ai 2.6K Aug 17 05:13  PythonFactorial.ipynb\r\n",
      "drwxr-xr-x 3 mosaic-ai mosaic-ai 4.0K Aug 17 05:13  \u001b[01;34mPythonFactorial\u001b[0m/\r\n",
      "-rw-r--r-- 1 mosaic-ai mosaic-ai  167 Aug 17 05:13  SampleRNotebook.R\r\n",
      "drwxr-xr-x 2 mosaic-ai mosaic-ai 4.0K Aug 17 05:13  \u001b[01;34mSamplePythonFilesForTesting\u001b[0m/\r\n",
      "drwxr-xr-x 5 mosaic-ai mosaic-ai 4.0K Aug 17 05:13 \u001b[01;34m'Testing Data'\u001b[0m/\r\n",
      "drwxr-xr-x 5 mosaic-ai mosaic-ai 4.0K Aug 17 05:13  \u001b[01;34mTestingFiles\u001b[0m/\r\n",
      "drwxr-xr-x 3 mosaic-ai mosaic-ai 4.0K Aug 17 05:13  \u001b[01;34mTestingFilesForObjectIDWithLongName\u001b[0m/\r\n",
      "-rw-r--r-- 1 mosaic-ai mosaic-ai 2.9K Aug 17 05:13  Untitled.ipynb\r\n",
      "-rw-r--r-- 1 mosaic-ai mosaic-ai  577 Aug 17 05:13  Untitled3.ipynb\r\n",
      "-rw-r--r-- 1 mosaic-ai mosaic-ai 3.9K Aug 17 05:13  Untitled2.ipynb\r\n",
      "-rw-r--r-- 1 mosaic-ai mosaic-ai 1.9K Aug 17 05:13  Untitled1.ipynb\r\n",
      "-rw-r--r-- 1 mosaic-ai mosaic-ai 482K Aug 17 05:13  WineQualityNotebook.ipynb\r\n",
      "-rw-r--r-- 1 mosaic-ai mosaic-ai  53K Aug 17 05:13  car_evaluation.csv\r\n",
      "-rw-r--r-- 1 mosaic-ai mosaic-ai 6.4M Aug 17 05:13  central\r\n",
      "-rw-r--r-- 1 mosaic-ai mosaic-ai 6.4M Aug 17 05:13  central1\r\n",
      "-rw-r--r-- 1 mosaic-ai mosaic-ai 1.4K Aug 17 05:13  petrol_consumption.csv\r\n",
      "-rw-r--r-- 1 mosaic-ai mosaic-ai  276 Aug 17 05:13  mosaic_score1.sas\r\n",
      "-rw-r--r-- 1 mosaic-ai mosaic-ai 3.2K Aug 17 05:13  irisfullcsv.csv\r\n",
      "drwxr-xr-x 2 mosaic-ai mosaic-ai 4.0K Aug 17 05:13  \u001b[01;34mgit\u001b[0m/\r\n",
      "-rw-r--r-- 1 mosaic-ai mosaic-ai 2.7K Aug 17 05:13  file_two.ipynb\r\n",
      "-rw-r--r-- 1 mosaic-ai mosaic-ai  814 Aug 17 05:13  file_one.ipynb\r\n",
      "-rw-r--r-- 1 mosaic-ai mosaic-ai 149K Aug 17 05:13  diamonds_regression_sklearn.ipynb\r\n",
      "-rw-r--r-- 1 mosaic-ai mosaic-ai 3.1M Aug 17 05:13  diamonds.csv\r\n",
      "-rw-r--r-- 1 mosaic-ai mosaic-ai  99K Aug 17 05:13  winequality.csv\r\n",
      "-rw-r--r-- 1 mosaic-ai mosaic-ai  60K Aug 17 05:13  train.csv\r\n",
      "-rw-r--r-- 1 mosaic-ai mosaic-ai  81K Aug 17 05:13  train_and_test2.csv\r\n",
      "-rw-r--r-- 1 mosaic-ai mosaic-ai  60K Aug 17 05:13  titanic_train.csv\r\n",
      "-rw-r--r-- 1 mosaic-ai mosaic-ai  28K Aug 17 05:13  titanic_test.csv\r\n",
      "-rw-r--r-- 1 mosaic-ai mosaic-ai    7 Aug 17 05:13  sample.txt\r\n",
      "-rw-r--r-- 1 mosaic-ai mosaic-ai  231 Aug 17 05:13  sample_request.sas\r\n",
      "-rw-r--r-- 1 mosaic-ai mosaic-ai 186K Aug 17 05:13  result_output_latest_1000.csv\r\n",
      "-rw-r--r-- 1 mosaic-ai mosaic-ai 482K Aug 17 05:13  winequality.json\r\n",
      "-rw-r--r-- 1 mosaic-ai mosaic-ai 8.6M Aug 17 05:13  xrayfull_Consolidation.csv\r\n",
      "drwxr-xr-x 2 mosaic-ai mosaic-ai 4.0K Aug 17 05:31  \u001b[01;34mAutomationTestFolder\u001b[0m/\r\n"
     ]
    }
   ],
   "source": [
    "ls -lrth"
   ]
  },
  {
   "cell_type": "code",
   "execution_count": 37,
   "id": "f6c7736b",
   "metadata": {},
   "outputs": [
    {
     "name": "stdout",
     "output_type": "stream",
     "text": [
      "/github/TestProject3/AutomationTestFolder\n"
     ]
    }
   ],
   "source": [
    "cd AutomationTestFolder"
   ]
  },
  {
   "cell_type": "code",
   "execution_count": 38,
   "id": "bd56d3ae",
   "metadata": {},
   "outputs": [],
   "source": [
    "lines = ['Readme', 'How to write text files in Python']\n",
    "with open('/github/TestProject3/AutomationTestFolder/readme.txt', 'w') as f:\n",
    "    for line in lines:\n",
    "        f.write(line)\n",
    "        f.write('\\n')"
   ]
  },
  {
   "cell_type": "code",
   "execution_count": 39,
   "id": "062436c9",
   "metadata": {},
   "outputs": [
    {
     "name": "stdout",
     "output_type": "stream",
     "text": [
      "Readme\n",
      "How to write text files in Python\n",
      "\n"
     ]
    }
   ],
   "source": [
    "with open('/github/TestProject3/AutomationTestFolder/readme.txt') as f:\n",
    "    contents = f.read()\n",
    "    print(contents)"
   ]
  },
  {
   "cell_type": "code",
   "execution_count": 40,
   "id": "885e8d06",
   "metadata": {},
   "outputs": [
    {
     "name": "stdout",
     "output_type": "stream",
     "text": [
      "/github/TestProject3\n"
     ]
    }
   ],
   "source": [
    "cd /github/TestProject3/"
   ]
  },
  {
   "cell_type": "code",
   "execution_count": 41,
   "id": "4a3f4279",
   "metadata": {},
   "outputs": [],
   "source": [
    "rm -rf AutomationTestFolder"
   ]
  },
  {
   "cell_type": "code",
   "execution_count": 42,
   "id": "d61c78ba",
   "metadata": {},
   "outputs": [
    {
     "name": "stdout",
     "output_type": "stream",
     "text": [
      "total 27M\r\n",
      "-rw-r--r-- 1 mosaic-ai mosaic-ai  61K Aug 17 05:13 'E2E Demo (1).ipynb'\r\n",
      "-rw-r--r-- 1 mosaic-ai mosaic-ai  46K Aug 17 05:13  CarEvaluation_classification_tensorflow.ipynb\r\n",
      "-rw-r--r-- 1 mosaic-ai mosaic-ai  33K Aug 17 05:13  Admission_Regression_keras.ipynb\r\n",
      "-rw-r--r-- 1 mosaic-ai mosaic-ai  16K Aug 17 05:13  Admission_data.csv\r\n",
      "-rw-r--r-- 1 mosaic-ai mosaic-ai  19K Aug 17 05:13 '11 data_drift_orchestrated.ipynb'\r\n",
      "-rw-r--r-- 1 mosaic-ai mosaic-ai 7.9K Aug 17 05:13 '10 AI Client E2E Demo without scoring1.ipynb'\r\n",
      "-rw-r--r-- 1 mosaic-ai mosaic-ai  62K Aug 17 05:13  FIFA_Model_Test_Schedule.ipynb\r\n",
      "drwxr-xr-x 2 mosaic-ai mosaic-ai 4.0K Aug 17 05:13  \u001b[0m\u001b[01;34mFifaModel\u001b[0m/\r\n",
      "-rw-r--r-- 1 mosaic-ai mosaic-ai  13K Aug 17 05:13 'Encoded Example - AI Client.ipynb'\r\n",
      "-rw-r--r-- 1 mosaic-ai mosaic-ai  34K Aug 17 05:13  PetrolConsumption_Regression_tensorflow.ipynb\r\n",
      "-rw-r--r-- 1 mosaic-ai mosaic-ai  29K Aug 17 05:13  NotebookUpload.zip\r\n",
      "-rw-r--r-- 1 mosaic-ai mosaic-ai  95K Aug 17 05:13 'IrisDataset (1).ipynb'\r\n",
      "-rw-r--r-- 1 mosaic-ai mosaic-ai 2.8K Aug 17 05:13  Iris.csv\r\n",
      "-rw-r--r-- 1 mosaic-ai mosaic-ai  75K Aug 17 05:13  Iris_Classification_Pytorch.ipynb\r\n",
      "drwxr-xr-x 8 mosaic-ai mosaic-ai 4.0K Aug 17 05:13  \u001b[01;34mFiles_With_Hash_In_Name\u001b[0m/\r\n",
      "-rw-r--r-- 1 mosaic-ai mosaic-ai 2.1K Aug 17 05:13  SASsampleModel.sas\r\n",
      "-rw-r--r-- 1 mosaic-ai mosaic-ai 1.6K Aug 17 05:13  Rsamplemodel.R\r\n",
      "-rw-r--r-- 1 mosaic-ai mosaic-ai  330 Aug 17 05:13  R_Factorial_Code.R\r\n",
      "-rw-r--r-- 1 mosaic-ai mosaic-ai 2.5K Aug 17 05:13  Read_Write_file.ipynb\r\n",
      "-rw-r--r-- 1 mosaic-ai mosaic-ai 2.6K Aug 17 05:13  PythonFactorial.ipynb\r\n",
      "drwxr-xr-x 3 mosaic-ai mosaic-ai 4.0K Aug 17 05:13  \u001b[01;34mPythonFactorial\u001b[0m/\r\n",
      "-rw-r--r-- 1 mosaic-ai mosaic-ai  167 Aug 17 05:13  SampleRNotebook.R\r\n",
      "drwxr-xr-x 2 mosaic-ai mosaic-ai 4.0K Aug 17 05:13  \u001b[01;34mSamplePythonFilesForTesting\u001b[0m/\r\n",
      "drwxr-xr-x 5 mosaic-ai mosaic-ai 4.0K Aug 17 05:13 \u001b[01;34m'Testing Data'\u001b[0m/\r\n",
      "drwxr-xr-x 5 mosaic-ai mosaic-ai 4.0K Aug 17 05:13  \u001b[01;34mTestingFiles\u001b[0m/\r\n",
      "drwxr-xr-x 3 mosaic-ai mosaic-ai 4.0K Aug 17 05:13  \u001b[01;34mTestingFilesForObjectIDWithLongName\u001b[0m/\r\n",
      "-rw-r--r-- 1 mosaic-ai mosaic-ai 2.9K Aug 17 05:13  Untitled.ipynb\r\n",
      "-rw-r--r-- 1 mosaic-ai mosaic-ai  577 Aug 17 05:13  Untitled3.ipynb\r\n",
      "-rw-r--r-- 1 mosaic-ai mosaic-ai 3.9K Aug 17 05:13  Untitled2.ipynb\r\n",
      "-rw-r--r-- 1 mosaic-ai mosaic-ai 1.9K Aug 17 05:13  Untitled1.ipynb\r\n",
      "-rw-r--r-- 1 mosaic-ai mosaic-ai 482K Aug 17 05:13  WineQualityNotebook.ipynb\r\n",
      "-rw-r--r-- 1 mosaic-ai mosaic-ai  53K Aug 17 05:13  car_evaluation.csv\r\n",
      "-rw-r--r-- 1 mosaic-ai mosaic-ai 6.4M Aug 17 05:13  central\r\n",
      "-rw-r--r-- 1 mosaic-ai mosaic-ai 6.4M Aug 17 05:13  central1\r\n",
      "-rw-r--r-- 1 mosaic-ai mosaic-ai 1.4K Aug 17 05:13  petrol_consumption.csv\r\n",
      "-rw-r--r-- 1 mosaic-ai mosaic-ai  276 Aug 17 05:13  mosaic_score1.sas\r\n",
      "-rw-r--r-- 1 mosaic-ai mosaic-ai 3.2K Aug 17 05:13  irisfullcsv.csv\r\n",
      "drwxr-xr-x 2 mosaic-ai mosaic-ai 4.0K Aug 17 05:13  \u001b[01;34mgit\u001b[0m/\r\n",
      "-rw-r--r-- 1 mosaic-ai mosaic-ai 2.7K Aug 17 05:13  file_two.ipynb\r\n",
      "-rw-r--r-- 1 mosaic-ai mosaic-ai  814 Aug 17 05:13  file_one.ipynb\r\n",
      "-rw-r--r-- 1 mosaic-ai mosaic-ai 149K Aug 17 05:13  diamonds_regression_sklearn.ipynb\r\n",
      "-rw-r--r-- 1 mosaic-ai mosaic-ai 3.1M Aug 17 05:13  diamonds.csv\r\n",
      "-rw-r--r-- 1 mosaic-ai mosaic-ai  99K Aug 17 05:13  winequality.csv\r\n",
      "-rw-r--r-- 1 mosaic-ai mosaic-ai  60K Aug 17 05:13  train.csv\r\n",
      "-rw-r--r-- 1 mosaic-ai mosaic-ai  81K Aug 17 05:13  train_and_test2.csv\r\n",
      "-rw-r--r-- 1 mosaic-ai mosaic-ai  60K Aug 17 05:13  titanic_train.csv\r\n",
      "-rw-r--r-- 1 mosaic-ai mosaic-ai  28K Aug 17 05:13  titanic_test.csv\r\n",
      "-rw-r--r-- 1 mosaic-ai mosaic-ai    7 Aug 17 05:13  sample.txt\r\n",
      "-rw-r--r-- 1 mosaic-ai mosaic-ai  231 Aug 17 05:13  sample_request.sas\r\n",
      "-rw-r--r-- 1 mosaic-ai mosaic-ai 186K Aug 17 05:13  result_output_latest_1000.csv\r\n",
      "-rw-r--r-- 1 mosaic-ai mosaic-ai 482K Aug 17 05:13  winequality.json\r\n",
      "-rw-r--r-- 1 mosaic-ai mosaic-ai 8.6M Aug 17 05:13  xrayfull_Consolidation.csv\r\n"
     ]
    }
   ],
   "source": [
    "ls -lrth"
   ]
  },
  {
   "cell_type": "code",
   "execution_count": null,
   "id": "a1c72de8",
   "metadata": {},
   "outputs": [],
   "source": []
  }
 ],
 "metadata": {
  "kernelspec": {
   "display_name": "Python 3",
   "language": "python",
   "name": "python3"
  },
  "language_info": {
   "codemirror_mode": {
    "name": "ipython",
    "version": 3
   },
   "file_extension": ".py",
   "mimetype": "text/x-python",
   "name": "python",
   "nbconvert_exporter": "python",
   "pygments_lexer": "ipython3",
   "version": "3.7.12"
  }
 },
 "nbformat": 4,
 "nbformat_minor": 5
}
