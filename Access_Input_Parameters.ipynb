{
 "cells": [
  {
   "cell_type": "code",
   "execution_count": 2,
   "id": "fa01cadc",
   "metadata": {},
   "outputs": [],
   "source": [
    "import os"
   ]
  },
  {
   "cell_type": "code",
   "execution_count": 3,
   "id": "27d6033f",
   "metadata": {},
   "outputs": [
    {
     "name": "stdout",
     "output_type": "stream",
     "text": [
      "None\n",
      "None\n",
      "None\n",
      "None\n",
      "Template_Level_Normal_Value\n",
      "None\n"
     ]
    }
   ],
   "source": [
    "print(os.environ.get('Project_Level_Normal'))\n",
    "print(os.environ.get('Project_Level_Secure'))\n",
    "print(os.environ.get('User_Level_Normal'))\n",
    "print(os.environ.get('User_Level_Secure'))\n",
    "print(os.environ.get('Template_Level_Normal'))\n",
    "print(os.environ.get('Template_Level_Secure'))"
   ]
  },
  {
   "cell_type": "code",
   "execution_count": null,
   "id": "65f0497a",
   "metadata": {},
   "outputs": [],
   "source": []
  }
 ],
 "metadata": {
  "kernelspec": {
   "display_name": "Python 3",
   "language": "python",
   "name": "python3"
  },
  "language_info": {
   "codemirror_mode": {
    "name": "ipython",
    "version": 3
   },
   "file_extension": ".py",
   "mimetype": "text/x-python",
   "name": "python",
   "nbconvert_exporter": "python",
   "pygments_lexer": "ipython3",
   "version": "3.7.12"
  }
 },
 "nbformat": 4,
 "nbformat_minor": 5
}
